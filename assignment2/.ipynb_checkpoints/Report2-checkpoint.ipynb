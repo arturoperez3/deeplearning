{
 "cells": [
  {
   "cell_type": "markdown",
   "metadata": {},
   "source": [
    "##### Arturo Perez \n",
    "##### Professor Koutsoukos \n",
    "##### CS 3891 Assignment 2\n",
    "##### 6 February 2018 "
   ]
  },
  {
   "cell_type": "markdown",
   "metadata": {},
   "source": [
    "## Preprocessing \n",
    "###### In this section we take care of preprocessing the MNIST data set."
   ]
  },
  {
   "cell_type": "markdown",
   "metadata": {},
   "source": [
    "We start by reading in the MNIST data set. "
   ]
  },
  {
   "cell_type": "code",
   "execution_count": 8,
   "metadata": {},
   "outputs": [],
   "source": [
    "import os\n",
    "import numpy as np\n",
    "import struct\n",
    "from matplotlib import pyplot\n",
    "\n",
    "# the training set is stored in this directory\n",
    "path = \"/Users/Arturo1/Desktop/Vanderbilt/2017-2018/Spring 2018/Deep Learning CS 3891/handwriting\"   \n",
    "\n",
    "# load the MNIST data \n",
    "fname_train_images = os.path.join(path, 'train-images-idx3-ubyte')  \n",
    "fname_train_labels = os.path.join(path, 'train-labels-idx1-ubyte')  \n",
    "    \n",
    "# open the label file and load it to \"mnist_labels\"\n",
    "with open(fname_train_labels, 'rb') as flbl:\n",
    "    magic, num = struct.unpack(\">II\", flbl.read(8))\n",
    "    mnist_labels = np.fromfile(flbl, dtype=np.uint8)\n",
    "\n",
    "# open the image file and load it to \"mnist_images\"\n",
    "with open(fname_train_images, 'rb') as fimg:\n",
    "    magic, num, rows, cols = struct.unpack(\">IIII\", fimg.read(16))\n",
    "    mnist_images = np.fromfile(fimg, dtype=np.uint8).reshape(len(mnist_labels), rows, cols)"
   ]
  },
  {
   "cell_type": "markdown",
   "metadata": {},
   "source": [
    "We continue by reshaping the images from (28,28) matrices to (28x28,1) column vectors. We divide by 255 for later simplicity and convenience. "
   ]
  },
  {
   "cell_type": "code",
   "execution_count": 9,
   "metadata": {
    "collapsed": true
   },
   "outputs": [],
   "source": [
    "# convert to (28x28,1) column vector and divide by 255\n",
    "mnist_images.flatten()  \n",
    "mnist_images = mnist_images / 255"
   ]
  },
  {
   "cell_type": "markdown",
   "metadata": {},
   "source": [
    "Because we want to predict whether a new image is equal to ID or not, we need to change the labels from MNIST to be either 1 if they are equal to ID, or 0 if they are not. In my case, ID is equal to 6. "
   ]
  },
  {
   "cell_type": "code",
   "execution_count": 10,
   "metadata": {
    "collapsed": true
   },
   "outputs": [],
   "source": [
    "ID = 6\n",
    "# change the labels to either 0 or 1\n",
    "ID_vector = ID*np.ones((1,mnist_labels.shape[0])) # vector of value ID that is 1 x 60,000\n",
    "ID_labels = 1*(ID_vector == mnist_labels) # vector of 0's or 1's that is 1 x 60,000"
   ]
  },
  {
   "cell_type": "markdown",
   "metadata": {},
   "source": [
    "We complete preprocessing by creating smaller training sets of the intial MNIST data set for later testing."
   ]
  },
  {
   "cell_type": "code",
   "execution_count": 11,
   "metadata": {
    "collapsed": true
   },
   "outputs": [],
   "source": [
    "# creating smaller data sets of differing size and differing data \n",
    "subsetOne = mnist_images[1:10] # 10 samples\n",
    "subsetTwo = mnist_images[25:525] # 500 samples\n",
    "subsetThree = mnist_images[200:1200] # 1,000 samples\n",
    "subsetFour = mnist_images[10000:30000] # 20,000 samples"
   ]
  },
  {
   "cell_type": "markdown",
   "metadata": {},
   "source": [
    "## Learning\n",
    "###### In this section we use the vectorized implementation, plot the learning curve, and investigate the impact of the learning rate."
   ]
  }
 ],
 "metadata": {
  "kernelspec": {
   "display_name": "Python 3",
   "language": "python",
   "name": "python3"
  },
  "language_info": {
   "codemirror_mode": {
    "name": "ipython",
    "version": 3
   },
   "file_extension": ".py",
   "mimetype": "text/x-python",
   "name": "python",
   "nbconvert_exporter": "python",
   "pygments_lexer": "ipython3",
   "version": "3.6.3"
  }
 },
 "nbformat": 4,
 "nbformat_minor": 2
}
